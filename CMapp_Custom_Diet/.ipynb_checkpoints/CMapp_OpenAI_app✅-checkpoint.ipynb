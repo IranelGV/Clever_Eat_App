{
 "cells": [
  {
   "cell_type": "code",
   "execution_count": null,
   "id": "74356973",
   "metadata": {},
   "outputs": [],
   "source": []
  },
  {
   "cell_type": "code",
   "execution_count": 1,
   "id": "98dc84d6",
   "metadata": {},
   "outputs": [
    {
     "name": "stderr",
     "output_type": "stream",
     "text": [
      "C:\\Users\\espan\\anaconda3\\lib\\site-packages\\fuzzywuzzy\\fuzz.py:11: UserWarning: Using slow pure-python SequenceMatcher. Install python-Levenshtein to remove this warning\n",
      "  warnings.warn('Using slow pure-python SequenceMatcher. Install python-Levenshtein to remove this warning')\n"
     ]
    }
   ],
   "source": [
    "import matplotlib.pyplot as plt\n",
    "import pandas as pd\n",
    "import numpy as np\n",
    "import streamlit as st\n",
    "\n",
    "\n",
    "from sklearn import datasets # sklearn comes with some toy datasets to practice\n",
    "from sklearn.preprocessing import StandardScaler\n",
    "from sklearn.cluster import KMeans\n",
    "from matplotlib import pyplot\n",
    "from sklearn.metrics import silhouette_score\n",
    "from PIL import Image\n",
    "from IPython.display import display\n",
    "from fuzzywuzzy import fuzz, process\n",
    "\n",
    "\n",
    "%matplotlib inline"
   ]
  },
  {
   "cell_type": "code",
   "execution_count": 2,
   "id": "c15c679e",
   "metadata": {},
   "outputs": [],
   "source": [
    "import openai\n",
    "\n",
    "# Set your OpenAI API key here\n",
    "api_key = \"YOUR_OPENAI_API_KEY\"\n",
    "\n",
    "# Configure the OpenAI API client with your API key\n",
    "openai.api_key = api_key"
   ]
  },
  {
   "cell_type": "code",
   "execution_count": null,
   "id": "6ddb18ee",
   "metadata": {},
   "outputs": [],
   "source": [
    "\n"
   ]
  },
  {
   "cell_type": "code",
   "execution_count": null,
   "id": "b57b75d3",
   "metadata": {},
   "outputs": [],
   "source": [
    "def get_personalized_diet_plan():\n",
    "    # Get user inputs\n",
    "    user_question = get_user_inputs()\n",
    "\n",
    "    # Use the OpenAI API to get the system response\n",
    "    response = openai.Completion.create(\n",
    "        engine=\"text-davinci-002\",\n",
    "        prompt=user_question,\n",
    "        max_tokens=150,\n",
    "        temperature=0.7,\n",
    "        n=1,\n",
    "    )\n",
    "\n",
    "    # Extract the system response from the API response\n",
    "    system_response = response['choices'][0]['text']\n",
    "\n",
    "    # Print the personalized diet plan\n",
    "    print(\"\\nPersonalized Diet Plan:\")\n",
    "    print(system_response)\n",
    "\n",
    "if __name__ == \"__main__\":\n",
    "    get_personalized_diet_plan()"
   ]
  }
 ],
 "metadata": {
  "kernelspec": {
   "display_name": "Python 3 (ipykernel)",
   "language": "python",
   "name": "python3"
  },
  "language_info": {
   "codemirror_mode": {
    "name": "ipython",
    "version": 3
   },
   "file_extension": ".py",
   "mimetype": "text/x-python",
   "name": "python",
   "nbconvert_exporter": "python",
   "pygments_lexer": "ipython3",
   "version": "3.9.13"
  }
 },
 "nbformat": 4,
 "nbformat_minor": 5
}
