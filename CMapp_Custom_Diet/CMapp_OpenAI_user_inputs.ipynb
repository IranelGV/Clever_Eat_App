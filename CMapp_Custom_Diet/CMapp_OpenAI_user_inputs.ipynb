{
 "cells": [
  {
   "cell_type": "markdown",
   "id": "ebabd439",
   "metadata": {},
   "source": [
    "### User Inputs to generate Personalized Diet Plan"
   ]
  },
  {
   "cell_type": "markdown",
   "id": "bc2099cc",
   "metadata": {},
   "source": [
    "Emojis able: ✅⚠️⁉️➡️▶️⏸️🟡🔴🥳👀🙌🏻🚀🤯"
   ]
  },
  {
   "cell_type": "code",
   "execution_count": 13,
   "id": "ac737182",
   "metadata": {},
   "outputs": [],
   "source": [
    "import matplotlib.pyplot as plt\n",
    "import pandas as pd\n",
    "import numpy as np\n",
    "import streamlit as st\n",
    "\n",
    "\n",
    "from sklearn import datasets # sklearn comes with some toy datasets to practice\n",
    "from sklearn.preprocessing import StandardScaler\n",
    "from sklearn.cluster import KMeans\n",
    "from matplotlib import pyplot\n",
    "from sklearn.metrics import silhouette_score\n",
    "from PIL import Image\n",
    "from IPython.display import display\n",
    "from fuzzywuzzy import fuzz, process\n",
    "\n",
    "\n",
    "%matplotlib inline"
   ]
  },
  {
   "cell_type": "markdown",
   "id": "67bc9e9e",
   "metadata": {},
   "source": [
    "### 1. Weight🏗️  & 2. Hight 🌁  & 3. Edge👵🏼👴🏻"
   ]
  },
  {
   "cell_type": "code",
   "execution_count": 14,
   "id": "386545b4",
   "metadata": {},
   "outputs": [],
   "source": [
    "def get_non_empty_float(prompt):\n",
    "    while True:\n",
    "        try:\n",
    "            value = float(input(prompt))\n",
    "            if value <= 0:\n",
    "                print(\"Please enter a positive non-zero value.\")\n",
    "            else:\n",
    "                return value\n",
    "        except ValueError:\n",
    "            print(\"Invalid input. Please enter a valid number.\")"
   ]
  },
  {
   "cell_type": "markdown",
   "id": "8b028567",
   "metadata": {},
   "source": [
    "### 4. Gender 🚺🚹"
   ]
  },
  {
   "cell_type": "code",
   "execution_count": 15,
   "id": "7fbfa670",
   "metadata": {},
   "outputs": [],
   "source": [
    "def get_gender():\n",
    "    while True:\n",
    "        gender = input(\"Gender (male/female): \").lower()\n",
    "        if gender in ['male', 'female']:\n",
    "            return gender\n",
    "        else:\n",
    "            print(\"Invalid gender. Please enter 'male' or 'female'.\")"
   ]
  },
  {
   "cell_type": "markdown",
   "id": "1b181ba0",
   "metadata": {},
   "source": [
    "### 5. Nilvel of phisical Activity ⛹🏽⛹🏻‍♀️"
   ]
  },
  {
   "cell_type": "code",
   "execution_count": 16,
   "id": "5f47a975",
   "metadata": {},
   "outputs": [],
   "source": [
    "def get_activity_level():\n",
    "    \n",
    "    # Define a list of correct spellings or keywords:\n",
    "    # correct_spellings = [\"sedentary\", \"lightly active\", \"moderately active\", \"very active\"]\n",
    "\n",
    "    activity_levels = ['sedentary', 'lightly active', 'moderately active', 'very active', 'extra active']\n",
    "    \n",
    "\n",
    "    \n",
    "    \n",
    "    while True:\n",
    "        nivel_activity = input(\"Activity Level (sedentary/lightly active/moderately active/very active/extra active): \").lower()\n",
    "        \n",
    "        # closest match\n",
    "        closest_match, similarity_score = process.extractOne(nivel_activity, activity_levels)\n",
    "        \n",
    "        if nivel_activity in activity_levels:\n",
    "            return nivel_activity\n",
    "        else:\n",
    "            print(\"Invalid activity level. Please choose from the provided options.\")"
   ]
  },
  {
   "cell_type": "markdown",
   "id": "c7918161",
   "metadata": {},
   "source": [
    "### 6. Goal 🏆"
   ]
  },
  {
   "cell_type": "code",
   "execution_count": 17,
   "id": "255db197",
   "metadata": {},
   "outputs": [],
   "source": [
    "def get_user_goal():\n",
    "    \n",
    "    # Define a list of correct spellings or keywords:\n",
    "    user_goal = ['loss weight', 'maintain weight', 'gain weight']\n",
    "    \n",
    "    while True:\n",
    "        user_goals_input = input(\"What is your Goal: (Loss Weight/Maintain Weight/Gain Weight: \").lower()\n",
    "        \n",
    "        # closest match\n",
    "        #closest_match, similarity_score = process.extractOne(nivel_activity, activity_levels)\n",
    "        \n",
    "        if user_goals_input in user_goal:\n",
    "            return user_goals_input\n",
    "        else:\n",
    "            print(\"Invalid user goal. Please choose from the provided options.\")"
   ]
  },
  {
   "cell_type": "markdown",
   "id": "d5193321",
   "metadata": {},
   "source": [
    "### ➡️ Calculating the User Calories (BMR)\n",
    "\n",
    "#### BMR:Basal Metabolic Rate"
   ]
  },
  {
   "cell_type": "code",
   "execution_count": 18,
   "id": "d232e94a",
   "metadata": {},
   "outputs": [],
   "source": [
    "def calculate_bmr(weight, height, age, gender):\n",
    "    # BMR calculation using the Harris-Benedict equation\n",
    "    if gender == \"male\":\n",
    "        bmr = 88.362 + (13.397 * weight) + (4.799 * height) - (5.677 * age)\n",
    "    else:\n",
    "        bmr = 447.593 + (9.247 * weight) + (3.098 * height) - (4.330 * age)\n",
    "    return bmr"
   ]
  },
  {
   "cell_type": "markdown",
   "id": "786a04b3",
   "metadata": {},
   "source": [
    "### ------------------------------------------------------------------------------------------------------------------------------------------------"
   ]
  },
  {
   "cell_type": "markdown",
   "id": "1cbe78d2",
   "metadata": {},
   "source": [
    "### ➡️ Get user inputs"
   ]
  },
  {
   "cell_type": "code",
   "execution_count": 63,
   "id": "3a5efdfe",
   "metadata": {},
   "outputs": [],
   "source": [
    "def get_user_inputs():\n",
    " \n",
    "    print(\"Please enter the following information:\")\n",
    "\n",
    "    # 1. Weight🏗️  & 2. Hight 🌁  & 3. Edge👵🏼👴🏻 ✅✅✅\n",
    "    \n",
    "    weight = int(get_non_empty_float(\"Weight (kg): \"))\n",
    "    height = int(get_non_empty_float(\"Height (cm): \"))\n",
    "    age = int(get_non_empty_float(\"Age (years): \"))\n",
    "    \n",
    "    # 4. Gender 🚺🚹 ✅\n",
    "    gender = get_gender()\n",
    "    \n",
    "    # 5. Nilvel of phisical Activity ⛹🏽⛹🏻‍♀️ ✅\n",
    "    nivel_activity = get_activity_level()\n",
    "    \n",
    "    # 6. Goal 🏆✅\n",
    "    user_goals = get_user_goal()\n",
    "\n",
    "    # ➡️ Calculating the User Calories Basal Metabolic Rate (BMR)\n",
    "        \n",
    "    #👀\n",
    "    \n",
    "    bmr = round(calculate_bmr(weight, height, age, gender),1)\n",
    "    \n",
    " \n",
    "\n",
    "    activity_factors = {\n",
    "        \"sedentary\": 1.2,\n",
    "        \"lightly active\": 1.375,\n",
    "        \"moderately active\": 1.55,\n",
    "        \"very active\": 1.725,\n",
    "        \"extra active\": 1.9\n",
    "    }\n",
    "    \n",
    "    TDEE_goals = {\n",
    "        \"loss weight\": 0.85,\n",
    "        \"maintain weight\": 1,\n",
    "        \"gain weight\": 1.1\n",
    "    }\n",
    "\n",
    "    ##### CALCULATING THE TDEE\n",
    "\n",
    "    # Set a default value for TDEE\n",
    "    TDEE = None\n",
    "\n",
    "    if nivel_activity in activity_factors:\n",
    "        TDEE = (bmr * activity_factors[nivel_activity])\n",
    "\n",
    "        if user_goals in TDEE_goals:\n",
    "            TDEE *= round(TDEE_goals[user_goals])   ## 7. ✅\n",
    "            print(f\"Total Calories based on your Goal is: {TDEE:.2f}.\")\n",
    "        else:\n",
    "            print(\"Invalid goal. Please choose from the provided options.\")\n",
    "\n",
    "\n",
    "    # Macronutrient Ratios\n",
    "    protein_ratio = 0.3\n",
    "    fat_ratio = 0.3\n",
    "    carbohydrate_ratio = 0.4\n",
    "\n",
    "    # Caloric content per gram of each macronutrient\n",
    "    protein_calories_per_gram = 4\n",
    "    fat_calories_per_gram = 9\n",
    "    carbohydrate_calories_per_gram = 4\n",
    "\n",
    "    # Calculate the grams of each macronutrient\n",
    "    \n",
    "    ## 8. ✅\n",
    "    protein_grams = round(((protein_ratio * TDEE) / protein_calories_per_gram),1)\n",
    "    \n",
    "    ## 9. ✅\n",
    "    fat_grams = round(((fat_ratio * TDEE) / fat_calories_per_gram),1)\n",
    "    \n",
    "    ## 10. ✅\n",
    "    carbohydrate_grams = round(((carbohydrate_ratio * TDEE) / carbohydrate_calories_per_gram),1)\n",
    "\n",
    " ########################################################################################  \n",
    "    \n",
    "      # Create the user question based on the collected inputs\n",
    "    user_question = (\n",
    "     f\"I weigh {weight} kg, my hight is {height} cm, I am {age} years old, my gender is {gender} my activity level is {nivel_activity}, and I aim for {user_goals}.\"\n",
    "     f\"Please suggest a personalized diet plan with a total of {TDEE} calories per day, \"\n",
    "     f\"The suggested diet must consider the macronutrient distribution of {protein_grams}gr of protein, {fat_grams} gr of Fat, and {carbohydrate_grams}gr of Carbohydrates.The suggested diet also should show the macronutrient contribution that each food has in grams of protein, fat, and carbohydrates and their Caloric intake.\")\n",
    "    \n",
    "    return user_question"
   ]
  },
  {
   "cell_type": "code",
   "execution_count": 62,
   "id": "d32eacde",
   "metadata": {},
   "outputs": [
    {
     "name": "stdout",
     "output_type": "stream",
     "text": [
      "Please enter the following information:\n",
      "Weight (kg): 68\n",
      "Height (cm): 177\n",
      "Age (years): 31\n",
      "Gender (male/female): female\n",
      "Activity Level (sedentary/lightly active/moderately active/very active/extra active): moderately active\n",
      "What is your Goal: (Loss Weight/Maintain Weight/Gain Weight: Loss Weight\n",
      "Total Calories based on your Goal is: 2310.28.\n"
     ]
    },
    {
     "data": {
      "text/plain": [
       "'I weigh 68 kg, my hight is 177 cm, I am 31 years old, my gender is female my activity level is moderately active, and I aim for loss weight.Please suggest a personalized diet plan with a total of 2310.275 calories per day, The suggested diet must consider the macronutrient distribution of 173.3gr of protein, 77.0 gr of Fat, and 231.0gr of Carbohydrates.The suggested diet also should show the macronutrient contribution that each food has in grams of protein, fat, and carbohydrates and their Caloric intake.'"
      ]
     },
     "execution_count": 62,
     "metadata": {},
     "output_type": "execute_result"
    }
   ],
   "source": [
    "get_user_inputs()"
   ]
  },
  {
   "cell_type": "markdown",
   "id": "60ed1cc1",
   "metadata": {},
   "source": [
    "### ------------------------------------------------------------------------------------------------------------------------------------------------"
   ]
  },
  {
   "cell_type": "markdown",
   "id": "a88522f8",
   "metadata": {},
   "source": [
    "### ------------------------------------------------------------------------------------------------------------------------------------------------"
   ]
  },
  {
   "cell_type": "markdown",
   "id": "63af6708",
   "metadata": {},
   "source": [
    "### ------------------------------------------------------------------------------------------------------------------------------------------------"
   ]
  },
  {
   "cell_type": "markdown",
   "id": "04372775",
   "metadata": {},
   "source": [
    "### ------------------------------------------------------------------------------------------------------------------------------------------------"
   ]
  },
  {
   "cell_type": "markdown",
   "id": "fc0d3036",
   "metadata": {},
   "source": [
    "### ➡️ TDEE Calculator"
   ]
  },
  {
   "cell_type": "code",
   "execution_count": 35,
   "id": "9f5571a9",
   "metadata": {},
   "outputs": [],
   "source": [
    "def TDEE_calculator():\n",
    " \n",
    "    print(\"Please enter the following information:\")\n",
    "\n",
    "    # 1. Weight🏗️  & 2. Hight 🌁  & 3. Edge👵🏼👴🏻\n",
    "    \n",
    "    weight = get_non_empty_float(\"Weight (kg): \")\n",
    "    height = get_non_empty_float(\"Height (cm): \")\n",
    "    age = get_non_empty_float(\"Age (years): \")\n",
    "    \n",
    "    # 4. Gender 🚺🚹\n",
    "    gender = get_gender()\n",
    "    \n",
    "    # 5. Nilvel of phisical Activity ⛹🏽⛹🏻‍♀️\n",
    "    nivel_activity = get_activity_level()\n",
    "    \n",
    "    # 6. Goal 🏆\n",
    "    user_goals = get_user_goal()\n",
    "\n",
    "    # ➡️ Calculating the User Calories Basal Metabolic Rate (BMR)\n",
    "    \n",
    "    #👀\n",
    "    \n",
    "    bmr = calculate_bmr(weight, height, age, gender)\n",
    "\n",
    "    activity_factors = {\n",
    "        \"sedentary\": 1.2,\n",
    "        \"lightly active\": 1.375,\n",
    "        \"moderately active\": 1.55,\n",
    "        \"very active\": 1.725,\n",
    "        \"extra active\": 1.9\n",
    "    }\n",
    "    \n",
    "    TDEE_goals = {\n",
    "        \"loss weight\": 0.85,\n",
    "        \"maintain weight\": 1,\n",
    "        \"gain weight\": 1.1\n",
    "    }\n",
    "\n",
    "    ##### CALCULATING THE TDEE\n",
    "\n",
    "    # Set a default value for TDEE\n",
    "    TDEE = None\n",
    "\n",
    "    if nivel_activity in activity_factors:\n",
    "        TDEE = (bmr * activity_factors[nivel_activity])\n",
    "\n",
    "        if user_goals in TDEE_goals:\n",
    "            TDEE *= TDEE_goals[user_goals]\n",
    "            print(f\"Total Calories based on your Goal is: {TDEE:.2f}.\")\n",
    "        else:\n",
    "            print(\"Invalid goal. Please choose from the provided options.\")\n",
    "            \n",
    "    return TDEE"
   ]
  },
  {
   "cell_type": "markdown",
   "id": "c5ec8477",
   "metadata": {},
   "source": [
    "### General Macronutrients Distribution and Calories Calculator"
   ]
  },
  {
   "cell_type": "markdown",
   "id": "d204a5bf",
   "metadata": {},
   "source": [
    "### ➡️ Macronutrients Distributions"
   ]
  },
  {
   "cell_type": "code",
   "execution_count": 23,
   "id": "d831dc69",
   "metadata": {},
   "outputs": [],
   "source": [
    "def calculate_macronutrient_distribution(TDEE):\n",
    "    \n",
    "    # List to store user inputs\n",
    "    user_data = []  \n",
    "    \n",
    "    # Macronutrient Ratios\n",
    "    protein_ratio = 0.3\n",
    "    fat_ratio = 0.3\n",
    "    carbohydrate_ratio = 0.4\n",
    "\n",
    "    # Caloric content per gram of each macronutrient\n",
    "    protein_calories_per_gram = 4\n",
    "    fat_calories_per_gram = 9\n",
    "    carbohydrate_calories_per_gram = 4\n",
    "\n",
    "    # Calculate the grams of each macronutrient\n",
    "    protein_grams = (protein_ratio * TDEE) / protein_calories_per_gram\n",
    "    fat_grams = (fat_ratio * TDEE) / fat_calories_per_gram\n",
    "    carbohydrate_grams = (carbohydrate_ratio * TDEE) / carbohydrate_calories_per_gram\n",
    "\n",
    "    # Calculate the calories contributed by each macronutrient\n",
    "    protein_calories = protein_grams * protein_calories_per_gram\n",
    "    fat_calories = fat_grams * fat_calories_per_gram\n",
    "    carbohydrate_calories = carbohydrate_grams * carbohydrate_calories_per_gram\n",
    "    \n",
    "    #Total Calories\n",
    "    total_calories = carbohydrate_calories + fat_calories + protein_calories\n",
    "    \n",
    "    user_data.append(\n",
    "            {\n",
    "        \"Protein(g)\": protein_grams,\n",
    "        \"Protein Calorie\": protein_calories,\n",
    "        \"Carbs(g)\": carbohydrate_grams,\n",
    "        \"Carbs Calorie\": carbohydrate_calories,\n",
    "        \"Fat(g)\": fat_grams,\n",
    "        \"Fat Calorie\": fat_calories,\n",
    "        \"Total Calories\": total_calories\n",
    "    })\n",
    "        \n",
    "    user_inputs_df = pd.DataFrame(user_data)\n",
    "    \n",
    "\n",
    "    return {\n",
    "        \"Protein(gr)\": protein_grams,\n",
    "        \"Carbs(gr)\": carbohydrate_grams,\n",
    "        \"Fat(gr)\": fat_grams,\n",
    "        \"Total Calories\": total_calories\n",
    "    }\n",
    "\n"
   ]
  },
  {
   "cell_type": "markdown",
   "id": "b6a968ca",
   "metadata": {},
   "source": [
    "### ➡️ TDEE Calculator and Macronutrients distributions"
   ]
  },
  {
   "cell_type": "code",
   "execution_count": 26,
   "id": "7e7b94f4",
   "metadata": {},
   "outputs": [],
   "source": [
    "def TDEE_calculator():\n",
    " \n",
    "    print(\"Please enter the following details:\")\n",
    "\n",
    "    # 1. Weight🏗️  & 2. Hight 🌁  & 3. Edge👵🏼👴🏻\n",
    "    \n",
    "    weight = get_non_empty_float(\"Weight (kg): \")\n",
    "    height = get_non_empty_float(\"Height (cm): \")\n",
    "    age = get_non_empty_float(\"Age (years): \")\n",
    "    \n",
    "    # 4. Gender 🚺🚹\n",
    "    gender = get_gender()\n",
    "    \n",
    "    # 5. Nilvel of phisical Activity ⛹🏽⛹🏻‍♀️\n",
    "    nivel_activity = get_activity_level()\n",
    "    \n",
    "    # 6. Goal 🏆\n",
    "    user_goals = get_user_goal()\n",
    "\n",
    "    # ➡️ Calculating the User Calories Basal Metabolic Rate (BMR)\n",
    "    \n",
    "    #👀\n",
    "    \n",
    "    bmr = calculate_bmr(weight, height, age, gender)\n",
    "\n",
    "    activity_factors = {\n",
    "        \"sedentary\": 1.2,\n",
    "        \"lightly active\": 1.375,\n",
    "        \"moderately active\": 1.55,\n",
    "        \"very active\": 1.725,\n",
    "        \"extra active\": 1.9\n",
    "    }\n",
    "    \n",
    "    TDEE_goals = {\n",
    "        \"loss weight\": 0.85,\n",
    "        \"maintain weight\": 1,\n",
    "        \"gain weight\": 1.1\n",
    "    }\n",
    "\n",
    "    ##### CALCULATING THE TDEE\n",
    "\n",
    "    # Create a list to hold the data for the DataFrame\n",
    "    user_inputs_parameters = []\n",
    "\n",
    "    # Set a default value for TDEE\n",
    "    TDEE = None\n",
    "\n",
    "    if nivel_activity in activity_factors:\n",
    "        TDEE = (bmr * activity_factors[nivel_activity])\n",
    "\n",
    "        if user_goals in TDEE_goals:\n",
    "            TDEE *= TDEE_goals[user_goals]\n",
    "            print(f\"Total Calories based on your Goal is: {TDEE:.2f}.\")\n",
    "        else:\n",
    "            print(\"Invalid goal. Please choose from the provided options.\")\n",
    "\n",
    "        \n",
    "\n",
    "        \n",
    "        \n",
    "        # Calculate and display the macronutrient distribution\n",
    "        #👀\n",
    "        macronutrient_distribution = calculate_macronutrient_distribution(TDEE)\n",
    "        \n",
    "        print(\"\\nMacronutrient Distribution:\")\n",
    "        \n",
    "        for macronutrients, value in macronutrient_distribution.items():\n",
    "            \n",
    "            \n",
    "    \n",
    "            \n",
    "            # Append the nutrient and value to the data list as a tuple\n",
    "            user_inputs_parameters.append((macronutrients, value))\n",
    "            \n",
    "            # Create a DataFrame from the data list\n",
    "            df_user_inputs = pd.DataFrame(user_inputs_parameters, columns=[\"Macronutrients\", \"Value\"])\n",
    "            \n",
    "         \n",
    "\n",
    "    else:\n",
    "        print(\"Invalid activity level. Please choose from the provided options.\")\n",
    " \n",
    "        \n",
    "    return df_user_inputs"
   ]
  },
  {
   "cell_type": "code",
   "execution_count": 22,
   "id": "4b68e2c0",
   "metadata": {},
   "outputs": [
    {
     "name": "stdout",
     "output_type": "stream",
     "text": [
      "Please enter the following details:\n",
      "Weight (kg): 68\n",
      "Height (cm): 177\n",
      "Age (years): 31\n",
      "Gender (male/female): female\n",
      "Activity Level (sedentary/lightly active/moderately active/very active/extra active): moderately active\n",
      "What is your Goal: (Loss Weight/Maintain Weight/Gain Weight: Gain Weight\n",
      "Total Calories based on your Goal is: 2541.31.\n",
      "\n",
      "Macronutrient Distribution:\n"
     ]
    },
    {
     "data": {
      "text/html": [
       "<div>\n",
       "<style scoped>\n",
       "    .dataframe tbody tr th:only-of-type {\n",
       "        vertical-align: middle;\n",
       "    }\n",
       "\n",
       "    .dataframe tbody tr th {\n",
       "        vertical-align: top;\n",
       "    }\n",
       "\n",
       "    .dataframe thead th {\n",
       "        text-align: right;\n",
       "    }\n",
       "</style>\n",
       "<table border=\"1\" class=\"dataframe\">\n",
       "  <thead>\n",
       "    <tr style=\"text-align: right;\">\n",
       "      <th></th>\n",
       "      <th>Macronutrients</th>\n",
       "      <th>Value</th>\n",
       "    </tr>\n",
       "  </thead>\n",
       "  <tbody>\n",
       "    <tr>\n",
       "      <th>0</th>\n",
       "      <td>Protein(gr)</td>\n",
       "      <td>190.598327</td>\n",
       "    </tr>\n",
       "    <tr>\n",
       "      <th>1</th>\n",
       "      <td>Carbs(gr)</td>\n",
       "      <td>254.131103</td>\n",
       "    </tr>\n",
       "    <tr>\n",
       "      <th>2</th>\n",
       "      <td>Fat(gr)</td>\n",
       "      <td>84.710368</td>\n",
       "    </tr>\n",
       "    <tr>\n",
       "      <th>3</th>\n",
       "      <td>Total Calories</td>\n",
       "      <td>2541.311025</td>\n",
       "    </tr>\n",
       "  </tbody>\n",
       "</table>\n",
       "</div>"
      ],
      "text/plain": [
       "   Macronutrients        Value\n",
       "0     Protein(gr)   190.598327\n",
       "1       Carbs(gr)   254.131103\n",
       "2         Fat(gr)    84.710368\n",
       "3  Total Calories  2541.311025"
      ]
     },
     "execution_count": 22,
     "metadata": {},
     "output_type": "execute_result"
    }
   ],
   "source": [
    "TDEE_calculator_per_meal()"
   ]
  },
  {
   "cell_type": "markdown",
   "id": "9e2018d9",
   "metadata": {},
   "source": [
    "### -------------------------------------------------------------------------------------------------------------------"
   ]
  },
  {
   "cell_type": "markdown",
   "id": "3eea6479",
   "metadata": {},
   "source": [
    "### Backlog"
   ]
  },
  {
   "cell_type": "code",
   "execution_count": 59,
   "id": "6438d686",
   "metadata": {},
   "outputs": [],
   "source": [
    "def get_user_inputs():\n",
    " \n",
    "    print(\"Please enter the following information:\")\n",
    "\n",
    "    # 1. Weight🏗️  & 2. Hight 🌁  & 3. Edge👵🏼👴🏻 ✅✅✅\n",
    "    \n",
    "    weight = get_non_empty_float(\"Weight (kg): \")\n",
    "    height = get_non_empty_float(\"Height (cm): \")\n",
    "    age = get_non_empty_float(\"Age (years): \")\n",
    "    \n",
    "    # 4. Gender 🚺🚹 ✅\n",
    "    gender = get_gender()\n",
    "    \n",
    "    # 5. Nilvel of phisical Activity ⛹🏽⛹🏻‍♀️ ✅\n",
    "    nivel_activity = get_activity_level()\n",
    "    \n",
    "    # 6. Goal 🏆✅\n",
    "    user_goals = get_user_goal()\n",
    "\n",
    "    # ➡️ Calculating the User Calories Basal Metabolic Rate (BMR)\n",
    "        \n",
    "    #👀\n",
    "    \n",
    "    bmr = calculate_bmr(weight, height, age, gender)\n",
    "\n",
    "    activity_factors = {\n",
    "        \"sedentary\": 1.2,\n",
    "        \"lightly active\": 1.375,\n",
    "        \"moderately active\": 1.55,\n",
    "        \"very active\": 1.725,\n",
    "        \"extra active\": 1.9\n",
    "    }\n",
    "    \n",
    "    TDEE_goals = {\n",
    "        \"loss weight\": 0.85,\n",
    "        \"maintain weight\": 1,\n",
    "        \"gain weight\": 1.1\n",
    "    }\n",
    "\n",
    "    ##### CALCULATING THE TDEE\n",
    "\n",
    "    # Set a default value for TDEE\n",
    "    TDEE = None\n",
    "\n",
    "    if nivel_activity in activity_factors:\n",
    "        TDEE = (bmr * activity_factors[nivel_activity])\n",
    "\n",
    "        if user_goals in TDEE_goals:\n",
    "            TDEE *= TDEE_goals[user_goals]   ## 7. ✅\n",
    "            print(f\"Total Calories based on your Goal is: {TDEE:.2f}.\")\n",
    "        else:\n",
    "            print(\"Invalid goal. Please choose from the provided options.\")\n",
    "\n",
    "\n",
    "    # Macronutrient Ratios\n",
    "    protein_ratio = 0.3\n",
    "    fat_ratio = 0.3\n",
    "    carbohydrate_ratio = 0.4\n",
    "\n",
    "    # Caloric content per gram of each macronutrient\n",
    "    protein_calories_per_gram = 4\n",
    "    fat_calories_per_gram = 9\n",
    "    carbohydrate_calories_per_gram = 4\n",
    "\n",
    "    # Calculate the grams of each macronutrient\n",
    "    \n",
    "    ## 8. ✅\n",
    "    protein_grams = (protein_ratio * TDEE) / protein_calories_per_gram\n",
    "    \n",
    "    ## 9. ✅\n",
    "    fat_grams = (fat_ratio * TDEE) / fat_calories_per_gram\n",
    "    \n",
    "    ## 10. ✅\n",
    "    carbohydrate_grams = (carbohydrate_ratio * TDEE) / carbohydrate_calories_per_gram \n",
    "\n",
    " ########################################################################################  \n",
    "    \n",
    "      # Create the user question based on the collected inputs\n",
    "    user_question = (\n",
    "     f\"I weigh {weight} kg, my hight is {height} cm, I am {age} years old, my gender is {gender} my activity level is {nivel_activity}, and I aim for {user_goals}.\"\n",
    "     f\"Please suggest a personalized diet plan with a total of {TDEE} calories per day, \"\n",
    "     f\"The suggested diet must consider the macronutrient distribution of {protein_grams}gr of protein, {fat_grams} gr of Fat, and {carbohydrate_grams}gr of Carbohydrates.The suggested diet also should show the macronutrient contribution that each food has in grams of protein, fat, and carbohydrates and their Caloric intake.\")\n",
    "    \n",
    "    return user_question"
   ]
  },
  {
   "cell_type": "markdown",
   "id": "5b24f054",
   "metadata": {},
   "source": [
    "### -------------------------------------------------------------------------------------------------------------------"
   ]
  },
  {
   "cell_type": "markdown",
   "id": "326d92b9",
   "metadata": {},
   "source": [
    "### Practice Environment 🔬🧪"
   ]
  },
  {
   "cell_type": "code",
   "execution_count": 64,
   "id": "0aec15f7",
   "metadata": {},
   "outputs": [],
   "source": [
    "def calculate_bmr(weight, height, age, gender):\n",
    "    # BMR calculation using the Harris-Benedict equation\n",
    "    if gender == \"male\":\n",
    "        bmr = 88.362 + (13.397 * weight) + (4.799 * height) - (5.677 * age)\n",
    "    else:\n",
    "        bmr = 447.593 + (9.247 * weight) + (3.098 * height) - (4.330 * age)\n",
    "    return bmr"
   ]
  },
  {
   "cell_type": "code",
   "execution_count": 65,
   "id": "03a64902",
   "metadata": {},
   "outputs": [],
   "source": [
    "bmr = 88.362 + (13.397 * 68) + (4.799 * 177) - (5.677 * 31)"
   ]
  },
  {
   "cell_type": "code",
   "execution_count": 66,
   "id": "6fe74c54",
   "metadata": {},
   "outputs": [
    {
     "data": {
      "text/plain": [
       "1672.7939999999999"
      ]
     },
     "execution_count": 66,
     "metadata": {},
     "output_type": "execute_result"
    }
   ],
   "source": [
    "bmr"
   ]
  },
  {
   "cell_type": "code",
   "execution_count": 68,
   "id": "2a2b8aa8",
   "metadata": {},
   "outputs": [],
   "source": [
    "TDEE=bmr*1.55"
   ]
  },
  {
   "cell_type": "code",
   "execution_count": 69,
   "id": "7d0a9554",
   "metadata": {},
   "outputs": [
    {
     "data": {
      "text/plain": [
       "2592.8307"
      ]
     },
     "execution_count": 69,
     "metadata": {},
     "output_type": "execute_result"
    }
   ],
   "source": [
    "TDEE"
   ]
  },
  {
   "cell_type": "code",
   "execution_count": 70,
   "id": "795d3754",
   "metadata": {},
   "outputs": [],
   "source": [
    "TDEE_loss_weight = TDEE*0.85"
   ]
  },
  {
   "cell_type": "code",
   "execution_count": 71,
   "id": "74e52d24",
   "metadata": {},
   "outputs": [
    {
     "data": {
      "text/plain": [
       "2203.906095"
      ]
     },
     "execution_count": 71,
     "metadata": {},
     "output_type": "execute_result"
    }
   ],
   "source": [
    "TDEE_loss_weight"
   ]
  },
  {
   "cell_type": "code",
   "execution_count": null,
   "id": "88512837",
   "metadata": {},
   "outputs": [],
   "source": [
    "# 2310.275 "
   ]
  },
  {
   "cell_type": "code",
   "execution_count": 77,
   "id": "f7ae4915",
   "metadata": {},
   "outputs": [],
   "source": [
    " # Macronutrient Ratios\n",
    "protein_ratio = 0.3\n",
    "fat_ratio = 0.3\n",
    "carbohydrate_ratio = 0.4\n",
    "\n",
    "    # Caloric content per gram of each macronutrient\n",
    "protein_calories_per_gram = 4\n",
    "fat_calories_per_gram = 9\n",
    "carbohydrate_calories_per_gram = 4\n",
    "\n",
    "    # Calculate the grams of each macronutrient\n",
    "    \n",
    "    ## 8. ✅\n",
    "protein_grams = (protein_ratio * 2310.275 ) / protein_calories_per_gram\n",
    "    \n",
    "    ## 9. ✅\n",
    "fat_grams = (fat_ratio * 2310.275 ) / fat_calories_per_gram\n",
    "    \n",
    "    ## 10. ✅\n",
    "carbohydrate_grams = (carbohydrate_ratio * 2310.275 ) / carbohydrate_calories_per_gram "
   ]
  },
  {
   "cell_type": "code",
   "execution_count": 78,
   "id": "0c3e517a",
   "metadata": {},
   "outputs": [
    {
     "data": {
      "text/plain": [
       "173.270625"
      ]
     },
     "execution_count": 78,
     "metadata": {},
     "output_type": "execute_result"
    }
   ],
   "source": [
    "protein_grams"
   ]
  },
  {
   "cell_type": "code",
   "execution_count": 79,
   "id": "8a6377df",
   "metadata": {},
   "outputs": [
    {
     "data": {
      "text/plain": [
       "77.00916666666666"
      ]
     },
     "execution_count": 79,
     "metadata": {},
     "output_type": "execute_result"
    }
   ],
   "source": [
    "fat_grams"
   ]
  },
  {
   "cell_type": "code",
   "execution_count": 80,
   "id": "47a66d06",
   "metadata": {},
   "outputs": [
    {
     "data": {
      "text/plain": [
       "231.02750000000003"
      ]
     },
     "execution_count": 80,
     "metadata": {},
     "output_type": "execute_result"
    }
   ],
   "source": [
    "carbohydrate_grams"
   ]
  },
  {
   "cell_type": "code",
   "execution_count": null,
   "id": "185e9115",
   "metadata": {},
   "outputs": [],
   "source": []
  }
 ],
 "metadata": {
  "kernelspec": {
   "display_name": "Python 3 (ipykernel)",
   "language": "python",
   "name": "python3"
  },
  "language_info": {
   "codemirror_mode": {
    "name": "ipython",
    "version": 3
   },
   "file_extension": ".py",
   "mimetype": "text/x-python",
   "name": "python",
   "nbconvert_exporter": "python",
   "pygments_lexer": "ipython3",
   "version": "3.9.13"
  }
 },
 "nbformat": 4,
 "nbformat_minor": 5
}
