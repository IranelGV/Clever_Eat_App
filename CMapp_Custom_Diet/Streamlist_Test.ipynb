{
 "cells": [
  {
   "cell_type": "code",
   "execution_count": 1,
   "id": "18af6f12",
   "metadata": {},
   "outputs": [
    {
     "name": "stderr",
     "output_type": "stream",
     "text": [
      "2023-07-25 11:40:06.145 \n",
      "  \u001b[33m\u001b[1mWarning:\u001b[0m to view this Streamlit app on a browser, run it with the following\n",
      "  command:\n",
      "\n",
      "    streamlit run C:\\Users\\espan\\anaconda3\\lib\\site-packages\\ipykernel_launcher.py [ARGUMENTS]\n"
     ]
    }
   ],
   "source": [
    "import streamlit as st\n",
    "\n",
    "def calculate_year_to_100(age):\n",
    "    current_year = 2023  # Replace with the actual current year\n",
    "    year_to_100 = current_year + (100 - age)\n",
    "    return year_to_100\n",
    "\n",
    "def main():\n",
    "    st.title(\"Interactive Streamlit App\")\n",
    "\n",
    "    # Text Input\n",
    "    name = st.text_input(\"Enter your name:\", \"John Doe\")\n",
    "\n",
    "    # Number Input\n",
    "    age = st.number_input(\"Enter your age:\", min_value=0, max_value=150, value=30)\n",
    "\n",
    "    # Checkbox\n",
    "    agree = st.checkbox(\"I agree to the terms and conditions.\")\n",
    "\n",
    "    # Button to submit the form\n",
    "    if st.button(\"Submit\"):\n",
    "        # Call the function with the user inputs\n",
    "        year_to_100 = calculate_year_to_100(age)\n",
    "\n",
    "        # Display the user inputs and the calculated result\n",
    "        st.write(f\"Name: {name}\")\n",
    "        st.write(f\"Age: {age}\")\n",
    "        st.write(f\"Agreed to terms and conditions: {agree}\")\n",
    "        st.write(f\"Year when you turn 100: {year_to_100}\")\n",
    "\n",
    "if __name__ == \"__main__\":\n",
    "    main()\n"
   ]
  },
  {
   "cell_type": "code",
   "execution_count": null,
   "id": "f360355a",
   "metadata": {},
   "outputs": [],
   "source": []
  }
 ],
 "metadata": {
  "kernelspec": {
   "display_name": "Python 3 (ipykernel)",
   "language": "python",
   "name": "python3"
  },
  "language_info": {
   "codemirror_mode": {
    "name": "ipython",
    "version": 3
   },
   "file_extension": ".py",
   "mimetype": "text/x-python",
   "name": "python",
   "nbconvert_exporter": "python",
   "pygments_lexer": "ipython3",
   "version": "3.9.13"
  }
 },
 "nbformat": 4,
 "nbformat_minor": 5
}
