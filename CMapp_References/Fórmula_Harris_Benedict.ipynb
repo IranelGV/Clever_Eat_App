{
 "cells": [
  {
   "cell_type": "markdown",
   "id": "ee42d779",
   "metadata": {},
   "source": [
    "## Cálculo TMB, fator atividade, calorias, proteínas, carboidratos e lipídeos"
   ]
  },
  {
   "cell_type": "markdown",
   "id": "f4947aa8",
   "metadata": {},
   "source": [
    "#### TMB = taxa metabólica basal"
   ]
  },
  {
   "cell_type": "code",
   "execution_count": 1,
   "id": "64a39363",
   "metadata": {},
   "outputs": [],
   "source": [
    "fator_atividade = {\"sedentario\":1.0, \"moderado\":1.2, \"ativo\":1.4}"
   ]
  },
  {
   "cell_type": "code",
   "execution_count": 2,
   "id": "144089be",
   "metadata": {},
   "outputs": [
    {
     "data": {
      "text/plain": [
       "1.0"
      ]
     },
     "execution_count": 2,
     "metadata": {},
     "output_type": "execute_result"
    }
   ],
   "source": [
    "peso=80\n",
    "altura=180\n",
    "idade=36\n",
    "fator_atividade[\"sedentario\"]"
   ]
  },
  {
   "cell_type": "code",
   "execution_count": 3,
   "id": "63b351a0",
   "metadata": {},
   "outputs": [],
   "source": [
    "def Total_PTN(peso=float):\n",
    "    ptn = 1.8 * peso\n",
    "    ptn_cal = ptn * 4"
   ]
  },
  {
   "cell_type": "code",
   "execution_count": 4,
   "id": "942e4965",
   "metadata": {},
   "outputs": [],
   "source": [
    "fator_atividade = {\"sedentario\":1.0, \"moderado\":1.2, \"ativo\":1.4}\n",
    "\n",
    "#calculo_tmb_m = fórmula para homens\n",
    "\n",
    "def calculo_tmb_m(peso=float,altura=int,idade=int,fator_atividade=float):\n",
    "    ptn = 1.8 * peso\n",
    "    quantidade_caloria_ptn = ptn * 4\n",
    "    tmb_m = fator_atividade * (66 + ((13.7 * peso) + (5 * altura) - (6.8 * idade)))\n",
    "    lip_carbo_cal = tmb_m - quantidade_caloria_ptn\n",
    "    carbo_cal = (lip_carbo_cal * 55)/100\n",
    "    lip_cal = (lip_carbo_cal * 20)/100\n",
    "    return {\"tmb_m\": tmb_m, \"lip_carbo_cal\": lip_carbo_cal, \"carbo_cal\": carbo_cal, \"lip_cal\": lip_cal}"
   ]
  },
  {
   "cell_type": "code",
   "execution_count": 5,
   "id": "8c19df85",
   "metadata": {},
   "outputs": [
    {
     "data": {
      "text/plain": [
       "{'tmb_m': 2180.64,\n",
       " 'lip_carbo_cal': 1604.6399999999999,\n",
       " 'carbo_cal': 882.552,\n",
       " 'lip_cal': 320.92799999999994}"
      ]
     },
     "execution_count": 5,
     "metadata": {},
     "output_type": "execute_result"
    }
   ],
   "source": [
    "calculo_tmb_m(peso=80,altura=180,idade=36,fator_atividade=1.2)"
   ]
  },
  {
   "cell_type": "code",
   "execution_count": 6,
   "id": "d8e37f53",
   "metadata": {},
   "outputs": [],
   "source": [
    "fator_atividade = {\"sedentario\":1.0, \"moderado\":1.2, \"ativo\":1.4}\n",
    "\n",
    "#calculo_tmb_m = fórmula para mulheres\n",
    "\n",
    "def calculo_tmb_w(peso=float,altura=int,idade=int,fator_atividade=float):\n",
    "    ptn = 1.8 * peso\n",
    "    quantidade_caloria_ptn = ptn * 4\n",
    "    tmb_m = fator_atividade * (655 + ((9.6 * peso) + (1.8 * altura) - (4.7 * idade)))\n",
    "    lip_carbo_cal = tmb_m - quantidade_caloria_ptn\n",
    "    carbo_cal = (lip_carbo_cal * 55)/100\n",
    "    lip_cal = (lip_carbo_cal * 20)/100\n",
    "    return {\"tmb_m\": tmb_m, \"lip_carbo_cal\": lip_carbo_cal, \"carbo_cal\": carbo_cal, \"lip_cal\": lip_cal}"
   ]
  },
  {
   "cell_type": "code",
   "execution_count": 7,
   "id": "882049dd",
   "metadata": {},
   "outputs": [
    {
     "data": {
      "text/plain": [
       "{'tmb_m': 1835.96,\n",
       " 'lip_carbo_cal': 1432.76,\n",
       " 'carbo_cal': 788.018,\n",
       " 'lip_cal': 286.552}"
      ]
     },
     "execution_count": 7,
     "metadata": {},
     "output_type": "execute_result"
    }
   ],
   "source": [
    "calculo_tmb_w(peso=56,altura=160,idade=36,fator_atividade=1.4)"
   ]
  },
  {
   "cell_type": "code",
   "execution_count": null,
   "id": "beb77f77",
   "metadata": {},
   "outputs": [],
   "source": []
  }
 ],
 "metadata": {
  "kernelspec": {
   "display_name": "Python 3 (ipykernel)",
   "language": "python",
   "name": "python3"
  },
  "language_info": {
   "codemirror_mode": {
    "name": "ipython",
    "version": 3
   },
   "file_extension": ".py",
   "mimetype": "text/x-python",
   "name": "python",
   "nbconvert_exporter": "python",
   "pygments_lexer": "ipython3",
   "version": "3.9.13"
  }
 },
 "nbformat": 4,
 "nbformat_minor": 5
}
