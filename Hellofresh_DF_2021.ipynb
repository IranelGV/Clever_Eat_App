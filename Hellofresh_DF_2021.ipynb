{
 "cells": [
  {
   "cell_type": "code",
   "execution_count": 4,
   "id": "3f3a06f3",
   "metadata": {},
   "outputs": [],
   "source": [
    "import pandas as pd"
   ]
  },
  {
   "cell_type": "code",
   "execution_count": 7,
   "id": "8adc1d95",
   "metadata": {},
   "outputs": [],
   "source": [
    "df = pd.read_excel(\"HelloFresh_DF.xlsx\")"
   ]
  },
  {
   "cell_type": "code",
   "execution_count": 8,
   "id": "6427e1e6",
   "metadata": {},
   "outputs": [
    {
     "data": {
      "text/html": [
       "<div>\n",
       "<style scoped>\n",
       "    .dataframe tbody tr th:only-of-type {\n",
       "        vertical-align: middle;\n",
       "    }\n",
       "\n",
       "    .dataframe tbody tr th {\n",
       "        vertical-align: top;\n",
       "    }\n",
       "\n",
       "    .dataframe thead th {\n",
       "        text-align: right;\n",
       "    }\n",
       "</style>\n",
       "<table border=\"1\" class=\"dataframe\">\n",
       "  <thead>\n",
       "    <tr style=\"text-align: right;\">\n",
       "      <th></th>\n",
       "      <th>Pause Week</th>\n",
       "      <th>Platform</th>\n",
       "      <th>Theme</th>\n",
       "      <th>Sub Theme</th>\n",
       "      <th>Comment count</th>\n",
       "    </tr>\n",
       "  </thead>\n",
       "  <tbody>\n",
       "    <tr>\n",
       "      <th>0</th>\n",
       "      <td>W25</td>\n",
       "      <td>Website</td>\n",
       "      <td>Price</td>\n",
       "      <td>Extra charge for recipes I like</td>\n",
       "      <td>1.0</td>\n",
       "    </tr>\n",
       "    <tr>\n",
       "      <th>1</th>\n",
       "      <td>W26</td>\n",
       "      <td>Website</td>\n",
       "      <td>Price</td>\n",
       "      <td>Extra charge for recipes I like</td>\n",
       "      <td>1.0</td>\n",
       "    </tr>\n",
       "    <tr>\n",
       "      <th>2</th>\n",
       "      <td>W26</td>\n",
       "      <td>Website</td>\n",
       "      <td>Price</td>\n",
       "      <td>Extra charge for recipes I like</td>\n",
       "      <td>1.0</td>\n",
       "    </tr>\n",
       "    <tr>\n",
       "      <th>3</th>\n",
       "      <td>W26</td>\n",
       "      <td>Website</td>\n",
       "      <td>Price</td>\n",
       "      <td>Extra charge for recipes I like</td>\n",
       "      <td>1.0</td>\n",
       "    </tr>\n",
       "    <tr>\n",
       "      <th>4</th>\n",
       "      <td>W26</td>\n",
       "      <td>Website</td>\n",
       "      <td>Price</td>\n",
       "      <td>Extra charge for recipes I like</td>\n",
       "      <td>1.0</td>\n",
       "    </tr>\n",
       "    <tr>\n",
       "      <th>...</th>\n",
       "      <td>...</td>\n",
       "      <td>...</td>\n",
       "      <td>...</td>\n",
       "      <td>...</td>\n",
       "      <td>...</td>\n",
       "    </tr>\n",
       "    <tr>\n",
       "      <th>3540</th>\n",
       "      <td>W26</td>\n",
       "      <td>Website</td>\n",
       "      <td>Too many of/ Don't like certain ingredients</td>\n",
       "      <td>Mushrooms</td>\n",
       "      <td>1.0</td>\n",
       "    </tr>\n",
       "    <tr>\n",
       "      <th>3541</th>\n",
       "      <td>W26</td>\n",
       "      <td>Website</td>\n",
       "      <td>Too many of/ Don't like certain ingredients</td>\n",
       "      <td>Mushrooms</td>\n",
       "      <td>1.0</td>\n",
       "    </tr>\n",
       "    <tr>\n",
       "      <th>3542</th>\n",
       "      <td>W26</td>\n",
       "      <td>Website</td>\n",
       "      <td>Too many of/ Don't like certain ingredients</td>\n",
       "      <td>Mushrooms</td>\n",
       "      <td>1.0</td>\n",
       "    </tr>\n",
       "    <tr>\n",
       "      <th>3543</th>\n",
       "      <td>W26</td>\n",
       "      <td>Website</td>\n",
       "      <td>Too many of/ Don't like certain ingredients</td>\n",
       "      <td>Mushrooms</td>\n",
       "      <td>1.0</td>\n",
       "    </tr>\n",
       "    <tr>\n",
       "      <th>3544</th>\n",
       "      <td>W26</td>\n",
       "      <td>Website</td>\n",
       "      <td>Too many of/ Don't like certain ingredients</td>\n",
       "      <td>Rice/ Bulgur/ Couscous</td>\n",
       "      <td>1.0</td>\n",
       "    </tr>\n",
       "  </tbody>\n",
       "</table>\n",
       "<p>3545 rows × 5 columns</p>\n",
       "</div>"
      ],
      "text/plain": [
       "     Pause Week Platform                                        Theme  \\\n",
       "0           W25  Website                                        Price   \n",
       "1           W26  Website                                        Price   \n",
       "2           W26  Website                                        Price   \n",
       "3           W26  Website                                        Price   \n",
       "4           W26  Website                                        Price   \n",
       "...         ...      ...                                          ...   \n",
       "3540        W26  Website  Too many of/ Don't like certain ingredients   \n",
       "3541        W26  Website  Too many of/ Don't like certain ingredients   \n",
       "3542        W26  Website  Too many of/ Don't like certain ingredients   \n",
       "3543        W26  Website  Too many of/ Don't like certain ingredients   \n",
       "3544        W26  Website  Too many of/ Don't like certain ingredients   \n",
       "\n",
       "                            Sub Theme  Comment count  \n",
       "0     Extra charge for recipes I like            1.0  \n",
       "1     Extra charge for recipes I like            1.0  \n",
       "2     Extra charge for recipes I like            1.0  \n",
       "3     Extra charge for recipes I like            1.0  \n",
       "4     Extra charge for recipes I like            1.0  \n",
       "...                               ...            ...  \n",
       "3540                        Mushrooms            1.0  \n",
       "3541                        Mushrooms            1.0  \n",
       "3542                        Mushrooms            1.0  \n",
       "3543                        Mushrooms            1.0  \n",
       "3544           Rice/ Bulgur/ Couscous            1.0  \n",
       "\n",
       "[3545 rows x 5 columns]"
      ]
     },
     "execution_count": 8,
     "metadata": {},
     "output_type": "execute_result"
    }
   ],
   "source": [
    "df"
   ]
  },
  {
   "cell_type": "code",
   "execution_count": 9,
   "id": "84b12692",
   "metadata": {},
   "outputs": [
    {
     "name": "stdout",
     "output_type": "stream",
     "text": [
      "<class 'pandas.core.frame.DataFrame'>\n",
      "RangeIndex: 3545 entries, 0 to 3544\n",
      "Data columns (total 5 columns):\n",
      " #   Column         Non-Null Count  Dtype  \n",
      "---  ------         --------------  -----  \n",
      " 0   Pause Week     3545 non-null   object \n",
      " 1   Platform       3545 non-null   object \n",
      " 2   Theme          3545 non-null   object \n",
      " 3   Sub Theme      3545 non-null   object \n",
      " 4   Comment count  3540 non-null   float64\n",
      "dtypes: float64(1), object(4)\n",
      "memory usage: 138.6+ KB\n"
     ]
    }
   ],
   "source": [
    "df.info()"
   ]
  },
  {
   "cell_type": "code",
   "execution_count": 10,
   "id": "afe7941c",
   "metadata": {},
   "outputs": [
    {
     "data": {
      "text/plain": [
       "W26    1662\n",
       "W25    1195\n",
       "W24     688\n",
       "Name: Pause Week, dtype: int64"
      ]
     },
     "execution_count": 10,
     "metadata": {},
     "output_type": "execute_result"
    }
   ],
   "source": [
    "df[\"Pause Week\"].value_counts()"
   ]
  },
  {
   "cell_type": "code",
   "execution_count": 11,
   "id": "1c071639",
   "metadata": {},
   "outputs": [
    {
     "data": {
      "text/plain": [
       "Website    3545\n",
       "Name: Platform, dtype: int64"
      ]
     },
     "execution_count": 11,
     "metadata": {},
     "output_type": "execute_result"
    }
   ],
   "source": [
    "df[\"Platform\"].value_counts()"
   ]
  },
  {
   "cell_type": "code",
   "execution_count": 12,
   "id": "c0e63ec4",
   "metadata": {},
   "outputs": [
    {
     "data": {
      "text/plain": [
       "Menu not appealing                             1734\n",
       "Menu lacked options                             578\n",
       "Too many of/ Don't like certain ingredients     304\n",
       "Repetetive recipes                              296\n",
       "Recipes not appealing                           245\n",
       "Price                                           141\n",
       "Other                                           138\n",
       "I have special dietary requirements             109\n",
       "Name: Theme, dtype: int64"
      ]
     },
     "execution_count": 12,
     "metadata": {},
     "output_type": "execute_result"
    }
   ],
   "source": [
    "df[\"Theme\"].value_counts()"
   ]
  },
  {
   "cell_type": "code",
   "execution_count": 13,
   "id": "8a7d8842",
   "metadata": {},
   "outputs": [
    {
     "data": {
      "text/plain": [
       "Not appealing to me (in general)            1046\n",
       "Not enough appealing options                 513\n",
       "Vegetarian                                   314\n",
       "Repetetive recipes                           296\n",
       "Other                                        138\n",
       "Veggie options not appealing                 128\n",
       "Extra charge for recipes I like              108\n",
       "Too spicy                                     98\n",
       "Kids friendly meals                           73\n",
       "Chicken/ Turkey                               72\n",
       "Pasta, pizza, burger                          71\n",
       "Beef/ Pork                                    69\n",
       "Fish/ Seafood                                 62\n",
       "Rice/ Bulgur/ Couscous                        54\n",
       "Too high in calories                          52\n",
       "Healthy/ Balanced                             46\n",
       "I'm vegan/ vegetarian                         43\n",
       "Dairy                                         43\n",
       "Not suitable for the season                   41\n",
       "Too plain/simple                              36\n",
       "Mushrooms                                     35\n",
       "Vegan/ Plant based                            35\n",
       "I'm gluten intolerant                         34\n",
       "Price is not appropriate                      33\n",
       "Too exotic                                    28\n",
       "Too many carbs                                22\n",
       "I'm on a diet                                 16\n",
       "I'm allergic                                  15\n",
       "Too time consuming/ difficult to prepare       7\n",
       "Next weeks menu looks better                   6\n",
       "Vegan Meat Alternative                         4\n",
       "Potatoes                                       4\n",
       "Too bland/ tasteless                           2\n",
       "I'm lactose intolerant                         1\n",
       "Name: Sub Theme, dtype: int64"
      ]
     },
     "execution_count": 13,
     "metadata": {},
     "output_type": "execute_result"
    }
   ],
   "source": [
    "df[\"Sub Theme\"].value_counts()"
   ]
  },
  {
   "cell_type": "code",
   "execution_count": 14,
   "id": "b08d28d2",
   "metadata": {},
   "outputs": [
    {
     "data": {
      "text/plain": [
       "1.0    3540\n",
       "Name: Comment count, dtype: int64"
      ]
     },
     "execution_count": 14,
     "metadata": {},
     "output_type": "execute_result"
    }
   ],
   "source": [
    "df[\"Comment count\"].value_counts()"
   ]
  },
  {
   "cell_type": "code",
   "execution_count": 15,
   "id": "fbf9e9a0",
   "metadata": {},
   "outputs": [
    {
     "data": {
      "text/plain": [
       "False    4\n",
       "True     1\n",
       "dtype: int64"
      ]
     },
     "execution_count": 15,
     "metadata": {},
     "output_type": "execute_result"
    }
   ],
   "source": [
    "df.isnull().any().value_counts()"
   ]
  },
  {
   "cell_type": "code",
   "execution_count": 17,
   "id": "5c19a16f",
   "metadata": {},
   "outputs": [
    {
     "data": {
      "text/plain": [
       "Pause Week       0\n",
       "Platform         0\n",
       "Theme            0\n",
       "Sub Theme        0\n",
       "Comment count    5\n",
       "dtype: int64"
      ]
     },
     "execution_count": 17,
     "metadata": {},
     "output_type": "execute_result"
    }
   ],
   "source": [
    "df.isnull().sum()"
   ]
  },
  {
   "cell_type": "code",
   "execution_count": 18,
   "id": "a0b602fd",
   "metadata": {},
   "outputs": [],
   "source": [
    "df['Comment count'] = df['Comment count'].fillna((df['Comment count'].mean()))"
   ]
  },
  {
   "cell_type": "code",
   "execution_count": 19,
   "id": "dae53586",
   "metadata": {},
   "outputs": [
    {
     "data": {
      "text/plain": [
       "Pause Week       0\n",
       "Platform         0\n",
       "Theme            0\n",
       "Sub Theme        0\n",
       "Comment count    0\n",
       "dtype: int64"
      ]
     },
     "execution_count": 19,
     "metadata": {},
     "output_type": "execute_result"
    }
   ],
   "source": [
    "df.isnull().sum()"
   ]
  },
  {
   "cell_type": "code",
   "execution_count": null,
   "id": "6ca969de",
   "metadata": {},
   "outputs": [],
   "source": []
  }
 ],
 "metadata": {
  "kernelspec": {
   "display_name": "Python 3 (ipykernel)",
   "language": "python",
   "name": "python3"
  },
  "language_info": {
   "codemirror_mode": {
    "name": "ipython",
    "version": 3
   },
   "file_extension": ".py",
   "mimetype": "text/x-python",
   "name": "python",
   "nbconvert_exporter": "python",
   "pygments_lexer": "ipython3",
   "version": "3.9.13"
  }
 },
 "nbformat": 4,
 "nbformat_minor": 5
}
