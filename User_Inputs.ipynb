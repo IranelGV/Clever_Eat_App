{
 "cells": [
  {
   "cell_type": "markdown",
   "id": "ca2d5828",
   "metadata": {},
   "source": [
    "Emojis able: ✅⚠️⁉️➡️▶️⏸️🟡🔴🥳👀🙌🏻🚀🤯"
   ]
  },
  {
   "cell_type": "code",
   "execution_count": 1,
   "id": "33d84292",
   "metadata": {},
   "outputs": [],
   "source": [
    "import matplotlib.pyplot as plt\n",
    "import pandas as pd\n",
    "import numpy as np\n",
    "\n",
    "\n",
    "from sklearn import datasets # sklearn comes with some toy datasets to practice\n",
    "from sklearn.preprocessing import StandardScaler\n",
    "from sklearn.cluster import KMeans\n",
    "from matplotlib import pyplot\n",
    "from sklearn.metrics import silhouette_score\n",
    "from PIL import Image\n",
    "from IPython.display import display\n",
    "\n",
    "\n",
    "%matplotlib inline"
   ]
  },
  {
   "cell_type": "markdown",
   "id": "1593f8af",
   "metadata": {},
   "source": [
    "### Lets estimate an individual's *Basal Metabolic Rate (BMR)*:\n",
    "\n",
    "which represents the number of calories the body needs at rest to maintain basic physiological functions such as breathing, circulation, and cell production"
   ]
  },
  {
   "cell_type": "markdown",
   "id": "a571ede3",
   "metadata": {},
   "source": [
    "⚠️-Note- To Protect the code for a bad spelling and also add other input questions like: type of diet (vegan/ vegetarian), allergics, weekly plann 👀"
   ]
  },
  {
   "cell_type": "markdown",
   "id": "94868b15",
   "metadata": {},
   "source": [
    "Different user inputs depending on the program. Model Recommendation we need more inputs!!!"
   ]
  },
  {
   "cell_type": "markdown",
   "id": "014205be",
   "metadata": {},
   "source": [
    "### ✅✅ ----------------------------------------------------------------------------------"
   ]
  },
  {
   "cell_type": "code",
   "execution_count": 14,
   "id": "7b715cdb",
   "metadata": {},
   "outputs": [],
   "source": [
    "def get_non_empty_float(prompt):\n",
    "    while True:\n",
    "        try:\n",
    "            value = float(input(prompt))\n",
    "            if value <= 0:\n",
    "                print(\"Please enter a positive non-zero value.\")\n",
    "            else:\n",
    "                return value\n",
    "        except ValueError:\n",
    "            print(\"Invalid input. Please enter a valid number.\")"
   ]
  },
  {
   "cell_type": "code",
   "execution_count": 15,
   "id": "23d43ac4",
   "metadata": {},
   "outputs": [],
   "source": [
    "def get_gender():\n",
    "    while True:\n",
    "        gender = input(\"Gender (male/female): \").lower()\n",
    "        if gender in ['male', 'female']:\n",
    "            return gender\n",
    "        else:\n",
    "            print(\"Invalid gender. Please enter 'male' or 'female'.\")\n"
   ]
  },
  {
   "cell_type": "code",
   "execution_count": 16,
   "id": "3c1be59d",
   "metadata": {},
   "outputs": [],
   "source": [
    "def get_activity_level():\n",
    "    activity_levels = ['sedentary', 'lightly active', 'moderately active', 'very active', 'extra active']\n",
    "    while True:\n",
    "        nivel_activity = input(\"Activity Level (sedentary/lightly active/moderately active/very active/extra active): \").lower()\n",
    "        if nivel_activity in activity_levels:\n",
    "            return nivel_activity\n",
    "        else:\n",
    "            print(\"Invalid activity level. Please choose from the provided options.\")"
   ]
  },
  {
   "cell_type": "code",
   "execution_count": 17,
   "id": "fb169d2d",
   "metadata": {},
   "outputs": [],
   "source": [
    "def calculate_bmr(weight, height, age, gender):\n",
    "    # BMR calculation using the Harris-Benedict equation\n",
    "    if gender == \"male\":\n",
    "        bmr = 88.362 + (13.397 * weight) + (4.799 * height) - (5.677 * age)\n",
    "    else:\n",
    "        bmr = 447.593 + (9.247 * weight) + (3.098 * height) - (4.330 * age)\n",
    "    return bmr"
   ]
  },
  {
   "cell_type": "code",
   "execution_count": 22,
   "id": "acc1c00e",
   "metadata": {},
   "outputs": [],
   "source": [
    "# Total Daily Energy Expenditure (TDEE)\n",
    "\n",
    "def TDEE_calculator():\n",
    "    print(\"Welcome to the TDEE Calculator!\")\n",
    "    print(\"Please enter the following details:\")\n",
    "\n",
    "    weight = get_non_empty_float(\"Weight (kg): \")\n",
    "    height = get_non_empty_float(\"Height (cm): \")\n",
    "    age = get_non_empty_float(\"Age (years): \")\n",
    "    gender = get_gender()\n",
    "    nivel_activity = get_activity_level()\n",
    "\n",
    "    bmr = calculate_bmr(weight, height, age, gender)\n",
    "\n",
    "    activity_factors = {\n",
    "        \"sedentary\": 1.2,\n",
    "        \"lightly active\": 1.375,\n",
    "        \"moderately active\": 1.55,\n",
    "        \"very active\": 1.725,\n",
    "        \"extra active\": 1.9\n",
    "    }\n",
    "\n",
    "    if nivel_activity in activity_factors:\n",
    "        TDEE = bmr * activity_factors[nivel_activity]\n",
    "        print(f\"Your Total Daily Energy Expenditure (TDEE) is: {TDEE:.2f} calories per day.\")\n",
    "    else:\n",
    "        print(\"Invalid activity level. Please choose from the provided options.\")"
   ]
  },
  {
   "cell_type": "code",
   "execution_count": 23,
   "id": "945b0b9b",
   "metadata": {},
   "outputs": [
    {
     "name": "stdout",
     "output_type": "stream",
     "text": [
      "Welcome to the TDEE Calculator!\n",
      "Please enter the following details:\n",
      "Weight (kg): 68\n",
      "Height (cm): 177\n",
      "Age (years): 31\n",
      "Gender (male/female): female\n",
      "Activity Level (sedentary/lightly active/moderately active/very active/extra active): moderately active\n",
      "Your Total Daily Energy Expenditure (TDEE) is: 2310.28 calories per day.\n"
     ]
    }
   ],
   "source": [
    "TDEE_calculator()"
   ]
  },
  {
   "cell_type": "code",
   "execution_count": 25,
   "id": "1c483df3",
   "metadata": {},
   "outputs": [],
   "source": [
    "def calculate_macronutrient_distribution():\n",
    "    \n",
    "    # Macronutrient Ratios✅\n",
    "    protein_ratio = 0.3\n",
    "    fat_ratio = 0.3\n",
    "    carbohydrate_ratio = 0.4\n",
    "\n",
    "    # Caloric content per gram of each macronutrient✅\n",
    "    protein_calories_per_gram = 4\n",
    "    fat_calories_per_gram = 9\n",
    "    carbohydrate_calories_per_gram = 4\n",
    "\n",
    "    # Calculate the grams of each macronutrient\n",
    "    protein_grams = (protein_ratio * TDEE_calculator()) / protein_calories_per_gram\n",
    "    fat_grams = (fat_ratio * TDEE_calculator()) / fat_calories_per_gram\n",
    "    carbohydrate_grams = (carbohydrate_ratio * TDEE_calculator()) / carbohydrate_calories_per_gram\n",
    "\n",
    "    # Calculate the calories contributed by each macronutrient\n",
    "    protein_calories = protein_grams * protein_calories_per_gram\n",
    "    fat_calories = fat_grams * fat_calories_per_gram\n",
    "    carbohydrate_calories = carbohydrate_grams * carbohydrate_calories_per_gram\n",
    "\n",
    "    #Total Calories\n",
    "    total_calories = carbohydrate_calories + fat_calories + protein_calories\n",
    "    \n",
    "    return {\n",
    "        \"Protein (grams)\": protein_grams,\n",
    "        \"Fat (grams)\": fat_grams,\n",
    "        \"Carbohydrates (grams)\": carbohydrate_grams,\n",
    "        \"Protein (calories)\": protein_calories,\n",
    "        \"Fat (calories)\": fat_calories,\n",
    "        \"Carbohydrates (calories)\": carbohydrate_calories,\n",
    "        \"Total calories\": total_calories\n",
    "        \n",
    "    }"
   ]
  },
  {
   "cell_type": "code",
   "execution_count": 26,
   "id": "9ac10686",
   "metadata": {},
   "outputs": [
    {
     "name": "stdout",
     "output_type": "stream",
     "text": [
      "Welcome to the TDEE Calculator!\n",
      "Please enter the following details:\n",
      "Weight (kg): 68\n",
      "Height (cm): 177\n",
      "Age (years): 31\n",
      "Gender (male/female): female\n",
      "Activity Level (sedentary/lightly active/moderately active/very active/extra active): moderately active\n",
      "Your Total Daily Energy Expenditure (TDEE) is: 2310.28 calories per day.\n"
     ]
    },
    {
     "ename": "TypeError",
     "evalue": "unsupported operand type(s) for *: 'float' and 'NoneType'",
     "output_type": "error",
     "traceback": [
      "\u001b[1;31m---------------------------------------------------------------------------\u001b[0m",
      "\u001b[1;31mTypeError\u001b[0m                                 Traceback (most recent call last)",
      "\u001b[1;32m~\\AppData\\Local\\Temp\\ipykernel_9884\\770257800.py\u001b[0m in \u001b[0;36m<module>\u001b[1;34m\u001b[0m\n\u001b[1;32m----> 1\u001b[1;33m \u001b[0mcalculate_macronutrient_distribution\u001b[0m\u001b[1;33m(\u001b[0m\u001b[1;33m)\u001b[0m\u001b[1;33m\u001b[0m\u001b[1;33m\u001b[0m\u001b[0m\n\u001b[0m",
      "\u001b[1;32m~\\AppData\\Local\\Temp\\ipykernel_9884\\1193333959.py\u001b[0m in \u001b[0;36mcalculate_macronutrient_distribution\u001b[1;34m()\u001b[0m\n\u001b[0;32m     12\u001b[0m \u001b[1;33m\u001b[0m\u001b[0m\n\u001b[0;32m     13\u001b[0m     \u001b[1;31m# Calculate the grams of each macronutrient\u001b[0m\u001b[1;33m\u001b[0m\u001b[1;33m\u001b[0m\u001b[0m\n\u001b[1;32m---> 14\u001b[1;33m     \u001b[0mprotein_grams\u001b[0m \u001b[1;33m=\u001b[0m \u001b[1;33m(\u001b[0m\u001b[0mprotein_ratio\u001b[0m \u001b[1;33m*\u001b[0m \u001b[0mTDEE_calculator\u001b[0m\u001b[1;33m(\u001b[0m\u001b[1;33m)\u001b[0m\u001b[1;33m)\u001b[0m \u001b[1;33m/\u001b[0m \u001b[0mprotein_calories_per_gram\u001b[0m\u001b[1;33m\u001b[0m\u001b[1;33m\u001b[0m\u001b[0m\n\u001b[0m\u001b[0;32m     15\u001b[0m     \u001b[0mfat_grams\u001b[0m \u001b[1;33m=\u001b[0m \u001b[1;33m(\u001b[0m\u001b[0mfat_ratio\u001b[0m \u001b[1;33m*\u001b[0m \u001b[0mTDEE_calculator\u001b[0m\u001b[1;33m(\u001b[0m\u001b[1;33m)\u001b[0m\u001b[1;33m)\u001b[0m \u001b[1;33m/\u001b[0m \u001b[0mfat_calories_per_gram\u001b[0m\u001b[1;33m\u001b[0m\u001b[1;33m\u001b[0m\u001b[0m\n\u001b[0;32m     16\u001b[0m     \u001b[0mcarbohydrate_grams\u001b[0m \u001b[1;33m=\u001b[0m \u001b[1;33m(\u001b[0m\u001b[0mcarbohydrate_ratio\u001b[0m \u001b[1;33m*\u001b[0m \u001b[0mTDEE_calculator\u001b[0m\u001b[1;33m(\u001b[0m\u001b[1;33m)\u001b[0m\u001b[1;33m)\u001b[0m \u001b[1;33m/\u001b[0m \u001b[0mcarbohydrate_calories_per_gram\u001b[0m\u001b[1;33m\u001b[0m\u001b[1;33m\u001b[0m\u001b[0m\n",
      "\u001b[1;31mTypeError\u001b[0m: unsupported operand type(s) for *: 'float' and 'NoneType'"
     ]
    }
   ],
   "source": [
    "calculate_macronutrient_distribution()"
   ]
  },
  {
   "cell_type": "markdown",
   "id": "2a5ecba7",
   "metadata": {},
   "source": [
    "### ----------------------------------------------------------------------------------"
   ]
  },
  {
   "cell_type": "markdown",
   "id": "1f653d91",
   "metadata": {},
   "source": [
    "### BACKLOG 1"
   ]
  },
  {
   "cell_type": "code",
   "execution_count": null,
   "id": "9af56d72",
   "metadata": {},
   "outputs": [],
   "source": [
    "def get_non_empty_float(prompt):\n",
    "    while True:\n",
    "        try:\n",
    "            value = float(input(prompt))\n",
    "            if value <= 0:\n",
    "                print(\"Please enter a positive non-zero value.\")\n",
    "            else:\n",
    "                return value\n",
    "        except ValueError:\n",
    "            print(\"Invalid input. Please enter a valid number.\")\n",
    "\n",
    "def get_gender():\n",
    "    while True:\n",
    "        gender = input(\"Gender (male/female): \").lower()\n",
    "        if gender in ['male', 'female']:\n",
    "            return gender\n",
    "        else:\n",
    "            print(\"Invalid gender. Please enter 'male' or 'female'.\")\n",
    "\n",
    "def get_activity_level():\n",
    "    activity_levels = ['sedentary', 'lightly active', 'moderately active', 'very active', 'extra active']\n",
    "    while True:\n",
    "        nivel_activity = input(\"Activity Level (sedentary/lightly active/moderately active/very active/extra active): \").lower()\n",
    "        if nivel_activity in activity_levels:\n",
    "            return nivel_activity\n",
    "        else:\n",
    "            print(\"Invalid activity level. Please choose from the provided options.\")\n",
    "\n",
    "def calculate_bmr(weight, height, age, gender):\n",
    "    # BMR calculation using the Harris-Benedict equation\n",
    "    if gender == \"male\":\n",
    "        bmr = 88.362 + (13.397 * weight) + (4.799 * height) - (5.677 * age)\n",
    "    else:\n",
    "        bmr = 447.593 + (9.247 * weight) + (3.098 * height) - (4.330 * age)\n",
    "    return bmr\n",
    "\n",
    "def physical_activity():\n",
    "    print(\"Welcome to the TDEE Calculator!\")\n",
    "    print(\"Please enter the following details:\")\n",
    "\n",
    "    weight = get_non_empty_float(\"Weight (kg): \")\n",
    "    height = get_non_empty_float(\"Height (cm): \")\n",
    "    age = get_non_empty_float(\"Age (years): \")\n",
    "    gender = get_gender()\n",
    "    nivel_activity = get_activity_level()\n",
    "\n",
    "    bmr = calculate_bmr(weight, height, age, gender)\n",
    "\n",
    "    activity_factors = {\n",
    "        \"sedentary\": 1.2,\n",
    "        \"lightly active\": 1.375,\n",
    "        \"moderately active\": 1.55,\n",
    "        \"very active\": 1.725,\n",
    "        \"extra active\": 1.9\n",
    "    }\n",
    "\n",
    "    if nivel_activity in activity_factors:\n",
    "        TDEE = bmr * activity_factors[nivel_activity]\n",
    "        print(f\"Your Total Daily Energy Expenditure (TDEE) is: {TDEE:.2f} calories per day.\")\n",
    "    else:\n",
    "        print(\"Invalid activity level. Please choose from the provided options.\")\n",
    "\n",
    "if __name__ == \"__main__\":\n",
    "    physical_activity()\n"
   ]
  },
  {
   "cell_type": "markdown",
   "id": "dcef944d",
   "metadata": {},
   "source": [
    "### BACKLOG 2"
   ]
  },
  {
   "cell_type": "code",
   "execution_count": null,
   "id": "daec787c",
   "metadata": {},
   "outputs": [],
   "source": [
    "def physical_activity(weight, height, age, gender, nivel_activity):\n",
    "    \n",
    "    def calculate_bmr(weight, height, age, gender):\n",
    "        \n",
    "        # BMR calculation using the Harris-Benedict equation\n",
    "        \n",
    "        if gender.lower() == \"male\":\n",
    "            bmr = 88.362 + (13.397 * weight) + (4.799 * height) - (5.677 * age)\n",
    "        elif gender.lower() == \"female\":\n",
    "            bmr = 447.593 + (9.247 * weight) + (3.098 * height) - (4.330 * age)\n",
    "        else:\n",
    "            raise ValueError(\"Invalid gender. Please enter 'male' or 'female'.\")\n",
    "        \n",
    "        return bmr\n",
    "\n",
    "    activity_factors = {\n",
    "        \"sedentary\": 1.2,\n",
    "        \"lightly active\": 1.375,\n",
    "        \"moderately active\": 1.55,\n",
    "        \"very active\": 1.725,\n",
    "        \"extra active\": 1.9\n",
    "    }\n",
    "\n",
    "    try:\n",
    "        bmr = calculate_bmr(weight, height, age, gender)\n",
    "        \n",
    "        if nivel_activity.lower() in activity_factors:\n",
    "            \n",
    "            TDEE = bmr * activity_factors[nivel_activity.lower()]\n",
    "            \n",
    "            return TDEE\n",
    "        \n",
    "        else:\n",
    "            \n",
    "            raise ValueError(\"Invalid activity level. Please choose from 'sedentary', 'lightly active', 'moderately active', 'very active', or 'extra active'.\")\n",
    "    \n",
    "    except ValueError as e:\n",
    "        return str(e)\n",
    "\n",
    "def main():\n",
    "    print(\"Welcome to the TDEE Calculator!\")\n",
    "    print(\"Please enter the following details:\")\n",
    "\n",
    "    weight = float(input(\"Weight (kg): \"))\n",
    "    height = float(input(\"Height (cm): \"))\n",
    "    age = int(input(\"Age (years): \"))\n",
    "    gender = input(\"Gender (male/female): \")\n",
    "    activity_level = input(\"Activity Level (sedentary/lightly active/moderately active/very active/extra active): \")\n",
    "\n",
    "    TDEE = physical_activity(weight, height, age, gender, activity_level)\n",
    "    \n",
    "    \n",
    "    if isinstance(TDEE, float):\n",
    "        print(f\"Your Total Daily Energy Expenditure (TDEE) is: {TDEE:.2f} calories per day.\")\n",
    "    else:\n",
    "        print(TDEE)\n",
    "\n",
    "if __name__ == \"__main__\":\n",
    "    main()"
   ]
  },
  {
   "cell_type": "code",
   "execution_count": null,
   "id": "bd5e58b0",
   "metadata": {},
   "outputs": [],
   "source": []
  },
  {
   "cell_type": "markdown",
   "id": "8f29d3db",
   "metadata": {},
   "source": [
    "Additionally, it's advisable to consult with a registered dietitian or nutritionist for personalized macronutrient recommendations based on your specific goals, activity level, and health status. They can help tailor a balanced and sustainable nutrition plan that meets your individual requirements."
   ]
  },
  {
   "cell_type": "markdown",
   "id": "d6448999",
   "metadata": {},
   "source": [
    "### DRAFT"
   ]
  },
  {
   "cell_type": "code",
   "execution_count": null,
   "id": "4821622e",
   "metadata": {},
   "outputs": [],
   "source": [
    "def calculate_macronutrient_distribution(TDEE):\n",
    "    \n",
    "    # Macronutrient Ratios✅\n",
    "    protein_ratio = 0.3\n",
    "    fat_ratio = 0.3\n",
    "    carbohydrate_ratio = 0.4\n",
    "\n",
    "    # Caloric content per gram of each macronutrient✅\n",
    "    protein_calories_per_gram = 4\n",
    "    fat_calories_per_gram = 9\n",
    "    carbohydrate_calories_per_gram = 4\n",
    "\n",
    "    # Calculate the grams of each macronutrient\n",
    "    protein_grams = (protein_ratio * TDEE) / protein_calories_per_gram\n",
    "    fat_grams = (fat_ratio * TDEE) / fat_calories_per_gram\n",
    "    carbohydrate_grams = (carbohydrate_ratio * TDEE) / carbohydrate_calories_per_gram\n",
    "\n",
    "    # Calculate the calories contributed by each macronutrient\n",
    "    protein_calories = protein_grams * protein_calories_per_gram\n",
    "    fat_calories = fat_grams * fat_calories_per_gram\n",
    "    carbohydrate_calories = carbohydrate_grams * carbohydrate_calories_per_gram\n",
    "    \n",
    "\n",
    "\n",
    "    return {\n",
    "        \"Protein (grams)\": protein_grams,\n",
    "        \"Fat (grams)\": fat_grams,\n",
    "        \"Carbohydrates (grams)\": carbohydrate_grams,\n",
    "        \"Protein (calories)\": protein_calories,\n",
    "        \"Fat (calories)\": fat_calories,\n",
    "        \"Carbohydrates (calories)\": carbohydrate_calories\n",
    "    }\n",
    "\n",
    "# Example usage:\n",
    "TDEE = 2000  # Replace this with the actual TDEE value\n",
    "macronutrient_distribution = calculate_macronutrient_distribution(TDEE)\n",
    "print(macronutrient_distribution)\n"
   ]
  },
  {
   "cell_type": "code",
   "execution_count": null,
   "id": "199ff752",
   "metadata": {},
   "outputs": [],
   "source": []
  },
  {
   "cell_type": "code",
   "execution_count": 29,
   "id": "c1f0c05b",
   "metadata": {},
   "outputs": [
    {
     "name": "stdout",
     "output_type": "stream",
     "text": [
      "Welcome to the TDEE Calculator!\n",
      "Please enter the following details:\n",
      "Weight (kg): 68\n",
      "Height (cm): 177\n",
      "Age (years): 31\n",
      "Gender (male/female): female\n",
      "Activity Level (sedentary/lightly active/moderately active/very active/extra active): moderately active\n",
      "Your Total Daily Energy Expenditure (TDEE) is: 2310.28 calories per day.\n",
      "\n",
      "Macronutrient Distribution:\n",
      "Protein (grams): 173.27\n",
      "Fat (grams): 77.01\n",
      "Carbohydrates (grams): 231.03\n",
      "Protein (calories): 693.08\n",
      "Fat (calories): 693.08\n",
      "Carbohydrates (calories): 924.11\n",
      "Total calories: 924.11\n"
     ]
    }
   ],
   "source": [
    "def calculate_macronutrient_distribution(TDEE):\n",
    "    # Macronutrient Ratios\n",
    "    protein_ratio = 0.3\n",
    "    fat_ratio = 0.3\n",
    "    carbohydrate_ratio = 0.4\n",
    "\n",
    "    # Caloric content per gram of each macronutrient\n",
    "    protein_calories_per_gram = 4\n",
    "    fat_calories_per_gram = 9\n",
    "    carbohydrate_calories_per_gram = 4\n",
    "\n",
    "    # Calculate the grams of each macronutrient\n",
    "    protein_grams = (protein_ratio * TDEE) / protein_calories_per_gram\n",
    "    fat_grams = (fat_ratio * TDEE) / fat_calories_per_gram\n",
    "    carbohydrate_grams = (carbohydrate_ratio * TDEE) / carbohydrate_calories_per_gram\n",
    "\n",
    "    # Calculate the calories contributed by each macronutrient\n",
    "    protein_calories = protein_grams * protein_calories_per_gram\n",
    "    fat_calories = fat_grams * fat_calories_per_gram\n",
    "    carbohydrate_calories = carbohydrate_grams * carbohydrate_calories_per_gram\n",
    "    \n",
    "    #Total Calories\n",
    "    total_calories = carbohydrate_calories + fat_calories + protein_calories\n",
    "\n",
    "    return {\n",
    "        \"Protein (grams)\": protein_grams,\n",
    "        \"Fat (grams)\": fat_grams,\n",
    "        \"Carbohydrates (grams)\": carbohydrate_grams,\n",
    "        \"Protein (calories)\": protein_calories,\n",
    "        \"Fat (calories)\": fat_calories,\n",
    "        \"Carbohydrates (calories)\": carbohydrate_calories,\n",
    "        \"Total calories\": carbohydrate_calories\n",
    "    }\n",
    "\n",
    "def TDEE_calculator():\n",
    "    print(\"Welcome to the TDEE Calculator!\")\n",
    "    print(\"Please enter the following details:\")\n",
    "\n",
    "    weight = get_non_empty_float(\"Weight (kg): \")\n",
    "    height = get_non_empty_float(\"Height (cm): \")\n",
    "    age = get_non_empty_float(\"Age (years): \")\n",
    "    gender = get_gender()\n",
    "    nivel_activity = get_activity_level()\n",
    "\n",
    "    bmr = calculate_bmr(weight, height, age, gender)\n",
    "\n",
    "    activity_factors = {\n",
    "        \"sedentary\": 1.2,\n",
    "        \"lightly active\": 1.375,\n",
    "        \"moderately active\": 1.55,\n",
    "        \"very active\": 1.725,\n",
    "        \"extra active\": 1.9\n",
    "    }\n",
    "\n",
    "    if nivel_activity in activity_factors:\n",
    "        TDEE = bmr * activity_factors[nivel_activity]\n",
    "        print(f\"Your Total Daily Energy Expenditure (TDEE) is: {TDEE:.2f} calories per day.\")\n",
    "\n",
    "        # Calculate and display the macronutrient distribution\n",
    "        macronutrient_distribution = calculate_macronutrient_distribution(TDEE)\n",
    "        print(\"\\nMacronutrient Distribution:\")\n",
    "        for nutrient, value in macronutrient_distribution.items():\n",
    "            print(f\"{nutrient}: {value:.2f}\")\n",
    "\n",
    "    else:\n",
    "        print(\"Invalid activity level. Please choose from the provided options.\")\n",
    "\n",
    "if __name__ == \"__main__\":\n",
    "    TDEE_calculator()"
   ]
  },
  {
   "cell_type": "markdown",
   "id": "e6ce8afc",
   "metadata": {},
   "source": [
    "we need to get this information into a data frame and also adapted the calories and proportion for food not in total!\n",
    "\n",
    "this is necesary for the recommendation model\n",
    "\n",
    "But for the open ai is no necessary we just need the general information.\n",
    "\n",
    "Also I need to protect the code for bad spelling!"
   ]
  }
 ],
 "metadata": {
  "kernelspec": {
   "display_name": "Python 3 (ipykernel)",
   "language": "python",
   "name": "python3"
  },
  "language_info": {
   "codemirror_mode": {
    "name": "ipython",
    "version": 3
   },
   "file_extension": ".py",
   "mimetype": "text/x-python",
   "name": "python",
   "nbconvert_exporter": "python",
   "pygments_lexer": "ipython3",
   "version": "3.9.13"
  }
 },
 "nbformat": 4,
 "nbformat_minor": 5
}
