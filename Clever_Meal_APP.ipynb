{
 "cells": [
  {
   "cell_type": "code",
   "execution_count": null,
   "id": "c15c679e",
   "metadata": {},
   "outputs": [],
   "source": [
    "import openai\n",
    "\n",
    "# Set your OpenAI API key here\n",
    "api_key = \"YOUR_OPENAI_API_KEY\"\n",
    "\n",
    "# Configure the OpenAI API client with your API key\n",
    "openai.api_key = api_key"
   ]
  },
  {
   "cell_type": "code",
   "execution_count": null,
   "id": "6ddb18ee",
   "metadata": {},
   "outputs": [],
   "source": [
    "\n",
    "\n",
    "# Function to get user inputs\n",
    "def get_user_inputs():\n",
    "    weight = float(input(\"Enter your weight in kilograms: \"))\n",
    "    activity_level = input(\"Enter your activity level (sedentary, moderate, active): \")\n",
    "    nutrition_goal = input(\"Enter your nutrition goal (weight loss, muscle gain, maintenance): \")\n",
    "    desired_calories = float(input(\"Enter your desired daily calorie intake: \"))\n",
    "    desired_protein = float(input(\"Enter the percentage of protein in your diet (e.g., 30 for 30%): \"))\n",
    "    desired_fat = float(input(\"Enter the percentage of fat in your diet (e.g., 30 for 30%): \"))\n",
    "    desired_carbs = float(input(\"Enter the percentage of carbohydrates in your diet (e.g., 40 for 40%): \"))\n",
    "\n",
    "    # Create the user question based on the collected inputs\n",
    "    user_question = (\n",
    "        f\"I weigh {weight} kg, my activity level is {activity_level}, and I aim for {nutrition_goal}. \"\n",
    "        f\"Please suggest a personalized diet plan with {desired_calories} calories per day, \"\n",
    "        f\"comprising {desired_protein}% protein, {desired_fat}% fat, and {desired_carbs}% carbohydrates.\"\n",
    "    )\n",
    "\n",
    "    return user_question\n"
   ]
  },
  {
   "cell_type": "code",
   "execution_count": null,
   "id": "b57b75d3",
   "metadata": {},
   "outputs": [],
   "source": [
    "def get_personalized_diet_plan():\n",
    "    # Get user inputs\n",
    "    user_question = get_user_inputs()\n",
    "\n",
    "    # Use the OpenAI API to get the system response\n",
    "    response = openai.Completion.create(\n",
    "        engine=\"text-davinci-002\",\n",
    "        prompt=user_question,\n",
    "        max_tokens=150,\n",
    "        temperature=0.7,\n",
    "        n=1,\n",
    "    )\n",
    "\n",
    "    # Extract the system response from the API response\n",
    "    system_response = response['choices'][0]['text']\n",
    "\n",
    "    # Print the personalized diet plan\n",
    "    print(\"\\nPersonalized Diet Plan:\")\n",
    "    print(system_response)\n",
    "\n",
    "if __name__ == \"__main__\":\n",
    "    get_personalized_diet_plan()"
   ]
  }
 ],
 "metadata": {
  "kernelspec": {
   "display_name": "Python 3 (ipykernel)",
   "language": "python",
   "name": "python3"
  },
  "language_info": {
   "codemirror_mode": {
    "name": "ipython",
    "version": 3
   },
   "file_extension": ".py",
   "mimetype": "text/x-python",
   "name": "python",
   "nbconvert_exporter": "python",
   "pygments_lexer": "ipython3",
   "version": "3.9.13"
  }
 },
 "nbformat": 4,
 "nbformat_minor": 5
}
